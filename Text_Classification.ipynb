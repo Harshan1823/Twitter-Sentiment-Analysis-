{
 "cells": [
  {
   "cell_type": "markdown",
   "id": "bc97d6da",
   "metadata": {
    "id": "bc97d6da"
   },
   "source": [
    "\n",
    "We will make use of Naive Bayes algorithm to perform sentiment analysis on the movie review dataset.\n",
    "\n",
    "## Importing the Libraries"
   ]
  },
  {
   "cell_type": "code",
   "execution_count": 1,
   "id": "a03450ac",
   "metadata": {
    "id": "a03450ac"
   },
   "outputs": [],
   "source": [
    "import numpy as np\n",
    "import pandas as pd\n",
    "import re\n",
    "import nltk\n",
    "from nltk.corpus import stopwords\n",
    "from nltk.stem import PorterStemmer\n",
    "from nltk.tokenize import word_tokenize\n",
    "from sklearn.model_selection import train_test_split\n",
    "from sklearn.metrics import confusion_matrix\n",
    "import warnings\n",
    "import seaborn as sns\n",
    "import matplotlib.pyplot as plt\n",
    "warnings.filterwarnings(\"ignore\")"
   ]
  },
  {
   "cell_type": "markdown",
   "id": "fc584cc2",
   "metadata": {
    "id": "fc584cc2"
   },
   "source": [
    "## Reading the data\n",
    "\n",
    "When reading the data, ensure that the '.csv' file is in the same location where your jupyter notebook is used. This way the files are organized and easy to read using the pandas library. "
   ]
  },
  {
   "cell_type": "code",
   "execution_count": 2,
   "id": "3c9ffbf5",
   "metadata": {
    "id": "3c9ffbf5"
   },
   "outputs": [],
   "source": [
    "## Reading the data and removing columns that are not important. \n",
    "df = pd.read_csv(\"movie_reviews.csv\", sep = ',', encoding = 'latin-1', usecols = lambda col: col not in [\"Unnamed: 2\", \"Unnamed: 3\", \"Unnamed: 4\"])"
   ]
  },
  {
   "cell_type": "code",
   "execution_count": 3,
   "id": "f7fa8ac0",
   "metadata": {
    "colab": {
     "base_uri": "https://localhost:8080/",
     "height": 206
    },
    "id": "f7fa8ac0",
    "outputId": "69edaf28-1e2e-4ec7-9530-b30a2853ab9e"
   },
   "outputs": [
    {
     "data": {
      "text/html": [
       "<div>\n",
       "<style scoped>\n",
       "    .dataframe tbody tr th:only-of-type {\n",
       "        vertical-align: middle;\n",
       "    }\n",
       "\n",
       "    .dataframe tbody tr th {\n",
       "        vertical-align: top;\n",
       "    }\n",
       "\n",
       "    .dataframe thead th {\n",
       "        text-align: right;\n",
       "    }\n",
       "</style>\n",
       "<table border=\"1\" class=\"dataframe\">\n",
       "  <thead>\n",
       "    <tr style=\"text-align: right;\">\n",
       "      <th></th>\n",
       "      <th>review</th>\n",
       "      <th>sentiment</th>\n",
       "    </tr>\n",
       "  </thead>\n",
       "  <tbody>\n",
       "    <tr>\n",
       "      <th>0</th>\n",
       "      <td>One of the other reviewers has mentioned that ...</td>\n",
       "      <td>positive</td>\n",
       "    </tr>\n",
       "    <tr>\n",
       "      <th>1</th>\n",
       "      <td>A wonderful little production. &lt;br /&gt;&lt;br /&gt;The...</td>\n",
       "      <td>positive</td>\n",
       "    </tr>\n",
       "    <tr>\n",
       "      <th>2</th>\n",
       "      <td>I thought this was a wonderful way to spend ti...</td>\n",
       "      <td>positive</td>\n",
       "    </tr>\n",
       "    <tr>\n",
       "      <th>3</th>\n",
       "      <td>Petter Mattei's \"Love in the Time of Money\" is...</td>\n",
       "      <td>positive</td>\n",
       "    </tr>\n",
       "    <tr>\n",
       "      <th>4</th>\n",
       "      <td>Probably my all-time favorite movie, a story o...</td>\n",
       "      <td>positive</td>\n",
       "    </tr>\n",
       "  </tbody>\n",
       "</table>\n",
       "</div>"
      ],
      "text/plain": [
       "                                              review sentiment\n",
       "0  One of the other reviewers has mentioned that ...  positive\n",
       "1  A wonderful little production. <br /><br />The...  positive\n",
       "2  I thought this was a wonderful way to spend ti...  positive\n",
       "3  Petter Mattei's \"Love in the Time of Money\" is...  positive\n",
       "4  Probably my all-time favorite movie, a story o...  positive"
      ]
     },
     "execution_count": 3,
     "metadata": {},
     "output_type": "execute_result"
    }
   ],
   "source": [
    "df.head()  # print head of data frame with help of head function"
   ]
  },
  {
   "cell_type": "markdown",
   "id": "1749da04",
   "metadata": {
    "id": "1749da04"
   },
   "source": [
    "## Count plot of the output categories: positive or negative\n",
    "\n",
    "Feel free to take a look at the output and whether the classes are balanced or imbalanced. "
   ]
  },
  {
   "cell_type": "code",
   "execution_count": 4,
   "id": "c152e8a4",
   "metadata": {
    "colab": {
     "base_uri": "https://localhost:8080/",
     "height": 515
    },
    "id": "c152e8a4",
    "outputId": "a2ba0476-3238-4511-fcf0-780508493f48"
   },
   "outputs": [
    {
     "data": {
      "image/png": "[encoded data removed]",
      "text/plain": [
       "<Figure size 720x576 with 1 Axes>"
      ]
     },
     "metadata": {
      "needs_background": "light"
     },
     "output_type": "display_data"
    }
   ],
   "source": [
    "plt.figure(figsize = (10, 8))\n",
    "sns.countplot(df['sentiment'])\n",
    "plt.title(\"Positive Vs. Negative reviews count\", fontsize = 15)\n",
    "plt.show()"
   ]
  },
  {
   "cell_type": "code",
   "execution_count": 5,
   "id": "3b082e0a",
   "metadata": {},
   "outputs": [],
   "source": [
    "## hint: use resample from sklearn.utils\n",
    "from sklearn.utils import resample\n",
    "\n",
    "df_majority = df[df['sentiment']=='positive']\n",
    "df_minority = df[df['sentiment']=='negative']\n",
    "negative_upsample = resample(df_minority, replace = True, \n",
    "                        n_samples = df_majority.shape[0],\n",
    "                        random_state = 101)\n",
    "\n",
    "df_upsampled = pd.concat([df_majority, negative_upsample])  # concat two data frames i,e majority class data set and upsampled minority class data set\n",
    "df_upsampled = df_upsampled.sample(frac = 1)"
   ]
  },
  {
   "cell_type": "code",
   "execution_count": 6,
   "id": "6a9329bb",
   "metadata": {
    "id": "6a9329bb"
   },
   "outputs": [
    {
     "data": {
      "text/plain": [
       "(12474, 2)"
      ]
     },
     "execution_count": 6,
     "metadata": {},
     "output_type": "execute_result"
    }
   ],
   "source": [
    "## Just to ensure that upsampling was done successfully, take a look at the shape of the data in \n",
    "## this cell. \n",
    "\n",
    "# print the shape of data set with the help of shape function having \"negative\" as class label\n",
    "df_upsampled[df_upsampled['sentiment'] == 'negative'].shape"
   ]
  },
  {
   "cell_type": "markdown",
   "id": "6f8bf6e7",
   "metadata": {
    "id": "6f8bf6e7"
   },
   "source": [
    "### Expected Output : \n",
    "(12474, 2)"
   ]
  },
  {
   "cell_type": "code",
   "execution_count": 7,
   "id": "bdea8155",
   "metadata": {
    "colab": {
     "base_uri": "https://localhost:8080/"
    },
    "id": "bdea8155",
    "outputId": "c665c4b9-826e-4f4e-e30e-06e0935a0622"
   },
   "outputs": [
    {
     "data": {
      "text/plain": [
       "(12474, 2)"
      ]
     },
     "execution_count": 7,
     "metadata": {},
     "output_type": "execute_result"
    }
   ],
   "source": [
    "## Ensure that the same number of data points are present for both 'positive' and 'negative' data\n",
    "\n",
    "# print the shape of data set with the help of shape function having \"positive\" as class label\n",
    "df_upsampled[df_upsampled['sentiment'] == 'positive'].shape"
   ]
  },
  {
   "cell_type": "markdown",
   "id": "626f01d5",
   "metadata": {
    "id": "626f01d5"
   },
   "source": [
    "### Expected Output : \n",
    "(12474, 2)"
   ]
  },
  {
   "cell_type": "code",
   "execution_count": 8,
   "id": "7e1b61db",
   "metadata": {},
   "outputs": [],
   "source": [
    "## In this cell, we are going to be dividing the data into train and test points\n",
    "## Ensure that you store the upsampled data in a variable called 'df_upsampled' \n",
    "## so that the below operations are performed successfully\n",
    "\n",
    "\n",
    "## Considering 10000 positive and 10000 negative data points\n",
    "negative_data_points_train = df_upsampled[df_upsampled['sentiment'] == 'negative'].iloc[:10000]\n",
    "positive_data_points_train = df_upsampled[df_upsampled['sentiment'] == 'positive'].iloc[:10000]\n",
    "\n",
    "## Considering the remaining data points for test\n",
    "negative_data_points_test = df_upsampled[df_upsampled['sentiment'] == 'negative'].iloc[10000:]\n",
    "positive_data_points_test = df_upsampled[df_upsampled['sentiment'] == 'positive'].iloc[10000:]\n",
    "\n",
    "## Concatenate the training positive and negative reviews\n",
    "X_train = pd.concat([positive_data_points_train['review'], negative_data_points_train['review']])\n",
    "## Concatenating the training positive and negative outputs\n",
    "y_train = pd.concat([positive_data_points_train['sentiment'], negative_data_points_train['sentiment']])\n",
    "\n",
    "## Concatenating the test positive and negative reviews\n",
    "X_test = pd.concat([positive_data_points_test['review'], negative_data_points_test['review']])\n",
    "## Concatenating the test positive and negative outputs\n",
    "y_test = pd.concat([positive_data_points_test['sentiment'], negative_data_points_test['sentiment']])\n"
   ]
  },
  {
   "cell_type": "code",
   "execution_count": 9,
   "id": "6428047d",
   "metadata": {
    "colab": {
     "base_uri": "https://localhost:8080/"
    },
    "id": "6428047d",
    "outputId": "10d10601-0ce0-4688-c4d3-75fa386583fd"
   },
   "outputs": [
    {
     "data": {
      "text/plain": [
       "negative    10000\n",
       "positive    10000\n",
       "Name: sentiment, dtype: int64"
      ]
     },
     "execution_count": 9,
     "metadata": {},
     "output_type": "execute_result"
    }
   ],
   "source": [
    "## Take a look at the total number of classes and their count using '.value_counts()' for y_train and y_test.\n",
    "## Ensure that there are equal number of positive and negative reviews. \n",
    "y_train.value_counts()"
   ]
  },
  {
   "cell_type": "markdown",
   "id": "7dfe6517",
   "metadata": {
    "id": "7dfe6517"
   },
   "source": [
    "### Expected Output:\n",
    "negative    10000<br>\n",
    "positive    10000<br>\n",
    "Name: sentiment, dtype: int64"
   ]
  },
  {
   "cell_type": "code",
   "execution_count": 10,
   "id": "2beae1d6",
   "metadata": {
    "colab": {
     "base_uri": "https://localhost:8080/"
    },
    "id": "2beae1d6",
    "outputId": "6896f930-6a1a-45db-b74c-d080c9aedd0c"
   },
   "outputs": [
    {
     "data": {
      "text/plain": [
       "negative    2474\n",
       "positive    2474\n",
       "Name: sentiment, dtype: int64"
      ]
     },
     "execution_count": 10,
     "metadata": {},
     "output_type": "execute_result"
    }
   ],
   "source": [
    "y_test.value_counts()"
   ]
  },
  {
   "cell_type": "markdown",
   "id": "9163f897",
   "metadata": {
    "id": "9163f897"
   },
   "source": [
    "### Expected Output : \n",
    "negative    2474<br>\n",
    "positive    2474<br>\n",
    "Name: sentiment, dtype: int64"
   ]
  },
  {
   "cell_type": "markdown",
   "id": "6501699b",
   "metadata": {
    "id": "6501699b"
   },
   "source": [
    "## Q1. Pre-process the reviews: (10 points)\n",
    "\n",
    "We know that a review contains links, punctuation, stopwords and many other words that don't give a lot of meaning for the Naive Bayes model for prediction. \n",
    "\n",
    "In the cell below, one must implement text-preprocessing and remove links, punctuations and stopwords. It is also important to lowercase the letters so that 'Admire' and 'admire' are not treated as different words. \n",
    "\n",
    "In addition to this, perform stemming operation so that similar words are reduced. To know more about stemming, feel free to take a look at this link.\n",
    "\n",
    "https://nlp.stanford.edu/IR-book/html/htmledition/stemming-and-lemmatization-1.html"
   ]
  },
  {
   "cell_type": "code",
   "execution_count": 11,
   "id": "436095f2",
   "metadata": {},
   "outputs": [],
   "source": [
    "# TASK CELL\n",
    "def clean_review(review):\n",
    "    ps = PorterStemmer()\n",
    "    stop_words = stopwords.words('english')+['']\n",
    "    review = re.sub(r'[^\\w\\s]','', review)\n",
    "    review = re.sub(r'http\\S+','', review)\n",
    "    review_cleaned = [word.lower() for word in review.split(' ') if word.lower() not in stop_words]\n",
    "    # Stemming words\n",
    "    review_cleaned = [ps.stem(word) for word in review_cleaned]\n",
    "    # Joining list to string    \n",
    "    review_cleaned = ' '.join(review_cleaned)\n",
    "    # Returning String     \n",
    "    return review_cleaned"
   ]
  },
  {
   "cell_type": "markdown",
   "id": "a7632fe5",
   "metadata": {
    "id": "a7632fe5"
   },
   "source": [
    "## Q2. Implement a find_occurrence function (5 points):\n",
    "\n",
    "In this function, we find the total occurrence of a word giving information such as label, word and frequency dictionary.\n",
    "\n",
    "Note that this function is used later in the code when we are going to be predicting the output using Naive Bayes. "
   ]
  },
  {
   "cell_type": "code",
   "execution_count": null,
   "id": "38ccc1a2",
   "metadata": {},
   "outputs": [],
   "source": []
  },
  {
   "cell_type": "code",
   "execution_count": 12,
   "id": "eb282b81",
   "metadata": {
    "id": "eb282b81"
   },
   "outputs": [],
   "source": [
    "# TASK CELL\n",
    "def find_occurrence(frequency, word, label):\n",
    "    '''\n",
    "    Params:\n",
    "        frequency: a dictionary with the frequency of each pair (or tuple)\n",
    "        word: the word to look up\n",
    "        label: the label corresponding to the word\n",
    "    Return:\n",
    "        n: the number of times the word with its corresponding label appears.\n",
    "    '''\n",
    "    n = 0  # freqs.get((word, label), 0)\n",
    "\n",
    "    dic = (word, label)\n",
    "    if(dic in frequency):\n",
    "        n = freqs[dic]\n",
    "    return n"
   ]
  },
  {
   "cell_type": "markdown",
   "id": "29a2249d",
   "metadata": {
    "id": "29a2249d"
   },
   "source": [
    "### Converting output to numerical format:\n",
    "\n",
    "We have outputs as 'positive' or 'negative'. In the cell below, we convert it to a numerical format. "
   ]
  },
  {
   "cell_type": "code",
   "execution_count": 13,
   "id": "bcdc2b2c",
   "metadata": {
    "id": "bcdc2b2c"
   },
   "outputs": [],
   "source": [
    "## With the use of mapping function, we replace\n",
    "## the label in the form of string to an integer. \n",
    "\n",
    "output_map = {'positive': 0, 'negative': 1}\n",
    "y_train = y_train.map(output_map)\n",
    "y_test = y_test.map(output_map)"
   ]
  },
  {
   "cell_type": "code",
   "execution_count": 14,
   "id": "3dde0bbd",
   "metadata": {
    "colab": {
     "base_uri": "https://localhost:8080/"
    },
    "id": "3dde0bbd",
    "outputId": "223dfbc1-8efe-4183-b6d7-c9cb025cb285"
   },
   "outputs": [
    {
     "data": {
      "text/plain": [
       "1    10000\n",
       "0    10000\n",
       "Name: sentiment, dtype: int64"
      ]
     },
     "execution_count": 14,
     "metadata": {},
     "output_type": "execute_result"
    }
   ],
   "source": [
    "## Ensuring that there are equal number of classes on the training data. \n",
    "y_train.value_counts()"
   ]
  },
  {
   "cell_type": "code",
   "execution_count": 15,
   "id": "f2959b85",
   "metadata": {
    "colab": {
     "base_uri": "https://localhost:8080/",
     "height": 178
    },
    "id": "f2959b85",
    "outputId": "e514214b-cd57-43fc-875d-1821ddab63f8"
   },
   "outputs": [
    {
     "data": {
      "text/plain": [
       "'Like another poster mentioned Ch. 56 (a local Boston TV station) showed this multiple times over the years on Saturday afternoons. They paired it with the first sequel \"Return of the Ginat Majin\".<br /><br />Now I haven\\'t seen it since then...but it never left me. Aside from the atrocious dubbing and faded color this was a pretty good fantasy. Technically it isn\\'t horror...until the statue comes to life at the end. It\\'s just about a village ruled over by an evil man. There\\'s a giant stone statue there that the villagers keep praying to to help them...to no avail. But things go too far, the statute comes to life and destroys the bad guys...but then it starts going after the good guys too! Well-done with some cool special effects at the end (LOVED how he got rid of the main bad guy). Also there was an enchanted forest worked in which was kind of interesting too.<br /><br />No masterpiece but an unusual combo fantasy/horror film. Worth catching--but not if it\\'s the dubbed print.'"
      ]
     },
     "execution_count": 15,
     "metadata": {},
     "output_type": "execute_result"
    }
   ],
   "source": [
    "## Choosing a random review and taking a look at it.\n",
    "X_train.iloc[0]"
   ]
  },
  {
   "cell_type": "markdown",
   "id": "ed5e43c9",
   "metadata": {
    "id": "ed5e43c9"
   },
   "source": [
    "From the above cell output, it could be seen that there are a lot of words that don't add a lot of meaning to the text. \n",
    "\n",
    "Therefore, those words would be removed. It also reduces the computation time. \n",
    "\n",
    "Therefore, it is a good practice we are following."
   ]
  },
  {
   "cell_type": "code",
   "execution_count": 16,
   "id": "ad3937ea",
   "metadata": {
    "colab": {
     "base_uri": "https://localhost:8080/"
    },
    "id": "ad3937ea",
    "outputId": "68985efe-32cd-4c11-ed5b-2e1e1b297e73"
   },
   "outputs": [
    {
     "name": "stdout",
     "output_type": "stream",
     "text": [
      "like anoth poster mention ch 56 local boston tv station show multipl time year saturday afternoon pair first sequel return ginat majinbr br havent seen sinc thenbut never left asid atroci dub fade color pretti good fantasi technic isnt horroruntil statu come life end villag rule evil man there giant stone statu villag keep pray help themto avail thing go far statut come life destroy bad guysbut start go good guy welldon cool special effect end love got rid main bad guy also enchant forest work kind interest toobr br masterpiec unusu combo fantasyhorror film worth catchingbut dub print\n"
     ]
    }
   ],
   "source": [
    "custom_review = X_train.iloc[0]\n",
    "\n",
    "# print cleaned review\n",
    "print(clean_review(custom_review))"
   ]
  },
  {
   "cell_type": "markdown",
   "id": "3e6cc440",
   "metadata": {
    "id": "3e6cc440"
   },
   "source": [
    "We now use this function to pre-process the review and remove words that don't add a lot of meaning in our model. "
   ]
  },
  {
   "cell_type": "markdown",
   "id": "5a762960",
   "metadata": {
    "id": "5a762960"
   },
   "source": [
    "## Q3. Implementing review counter function: (5 points)\n",
    "\n",
    "It is now time to implement the count function for the reviews. \n",
    "\n",
    "In this function, we count the occurrence of words and get the probabilities \n",
    "for the words based on the training data. \n",
    "\n",
    "In other words, we get the probability of occurrence of a word, given that the output is 'positive'.\n",
    "\n",
    "Similarly, we also compute the probability of occurence of a word, given that the output is 'negative'.\n",
    "\n"
   ]
  },
  {
   "cell_type": "code",
   "execution_count": 17,
   "id": "5de61f77",
   "metadata": {
    "id": "5de61f77"
   },
   "outputs": [],
   "source": [
    "# TASK CELL\n",
    "def review_counter(output_occurrence, reviews, positive_or_negative):\n",
    "    '''\n",
    "    Params:\n",
    "        output_occurrence: a dictionary that will be used to map each pair to its frequency\n",
    "        reviews: a list of reviews\n",
    "        positive_or_negative: a list corresponding to the sentiment of each review (either 0 or 1)\n",
    "    Return:\n",
    "        output: a dictionary mapping each pair to its frequency\n",
    "    '''\n",
    "    for label, review in zip(positive_or_negative, reviews):\n",
    "        split_review = clean_review(review).split(' ')\n",
    "        for word in split_review:\n",
    "            # Your code here\n",
    "            if((word, label) in output_occurrence):\n",
    "                output_occurrence[(word, label)] += 1\n",
    "            else:\n",
    "                output_occurrence[(word, label)] = 1\n",
    "    return output_occurrence"
   ]
  },
  {
   "cell_type": "markdown",
   "id": "18238223",
   "metadata": {
    "id": "18238223"
   },
   "source": [
    "### Test your function with example reviews:\n",
    "\n",
    "Feel free to run the cell below and understand whether the above function that you have defined is producing the optimum results. "
   ]
  },
  {
   "cell_type": "code",
   "execution_count": 18,
   "id": "07a4c58a",
   "metadata": {
    "colab": {
     "base_uri": "https://localhost:8080/"
    },
    "id": "07a4c58a",
    "outputId": "dd9e148a-34a9-4cfe-9077-c5de33493d7a"
   },
   "outputs": [
    {
     "data": {
      "text/plain": [
       "{('got', 1): 1,\n",
       " ('bore', 1): 2,\n",
       " ('throught', 1): 1,\n",
       " ('moview', 1): 1,\n",
       " ('movi', 0): 2,\n",
       " ('fantast', 0): 1,\n",
       " ('watch', 1): 1,\n",
       " ('complet', 1): 1,\n",
       " ('wast', 1): 1,\n",
       " ('time', 1): 1,\n",
       " ('money', 1): 1,\n",
       " ('enjoy', 0): 1,\n",
       " ('fullest', 0): 1}"
      ]
     },
     "execution_count": 18,
     "metadata": {},
     "output_type": "execute_result"
    }
   ],
   "source": [
    "# Testing your function\n",
    "\n",
    "result = {}\n",
    "reviews = ['got bored throught the moview', 'The movie was fantastic', 'Will not watch it again', 'Was bored, it was a complete waste of time and money', 'Enjoyed the movie to the fullest']\n",
    "ys = [1, 0, 1, 1, 0]\n",
    "review_counter(result,reviews, ys)"
   ]
  },
  {
   "cell_type": "markdown",
   "id": "927f89bb",
   "metadata": {
    "id": "927f89bb"
   },
   "source": [
    "### Expected Output:\n",
    " {('bored', 1): 2, <br>\n",
    " ('complete', 1): 1, <br>\n",
    " ('enjoyed', 0): 1, <br>\n",
    " ('fantastic', 0): 1, <br>\n",
    " ('fullest', 0): 1, <br>\n",
    " ('got', 1): 1, <br>\n",
    " ('money', 1): 1, <br>\n",
    " ('movie', 0): 2, <br>\n",
    " ('moview', 1): 1, <br>\n",
    " ('throught', 1): 1, <br>\n",
    " ('time', 1): 1, <br>\n",
    " ('waste', 1): 1, <br>\n",
    " ('watch', 1): 1}"
   ]
  },
  {
   "cell_type": "code",
   "execution_count": 19,
   "id": "9bc62e13",
   "metadata": {
    "id": "9bc62e13"
   },
   "outputs": [],
   "source": [
    "# Build the freqs dictionary for later uses\n",
    "freqs = review_counter({}, X_train, y_train)"
   ]
  },
  {
   "cell_type": "code",
   "execution_count": 20,
   "id": "0eddf420",
   "metadata": {
    "id": "0eddf420"
   },
   "outputs": [
    {
     "data": {
      "text/plain": [
       "{('like', 0): 7970,\n",
       " ('anoth', 0): 1630,\n",
       " ('poster', 0): 83,\n",
       " ('mention', 0): 518,\n",
       " ('ch', 0): 2,\n",
       " ('56', 0): 17,\n",
       " ('local', 0): 412,\n",
       " ('boston', 0): 26,\n",
       " ('tv', 0): 1102,\n",
       " ('station', 0): 161,\n",
       " ('show', 0): 4371,\n",
       " ('multipl', 0): 87,\n",
       " ('time', 0): 6106,\n",
       " ('year', 0): 2883,\n",
       " ('saturday', 0): 84,\n",
       " ('afternoon', 0): 70,\n",
       " ('pair', 0): 162,\n",
       " ('first', 0): 3508,\n",
       " ('sequel', 0): 277,\n",
       " ('return', 0): 548,\n",
       " ('ginat', 0): 1,\n",
       " ('majinbr', 0): 1,\n",
       " ('br', 0): 22252,\n",
       " ('havent', 0): 362,\n",
       " ('seen', 0): 2625,\n",
       " ('sinc', 0): 1174,\n",
       " ('thenbut', 0): 3,\n",
       " ('never', 0): 2493,\n",
       " ('left', 0): 715,\n",
       " ('asid', 0): 189,\n",
       " ('atroci', 0): 19,\n",
       " ('dub', 0): 124,\n",
       " ('fade', 0): 70,\n",
       " ('color', 0): 375,\n",
       " ('pretti', 0): 1162,\n",
       " ('good', 0): 5855,\n",
       " ('fantasi', 0): 272,\n",
       " ('technic', 0): 178,\n",
       " ('isnt', 0): 1008,\n",
       " ('horroruntil', 0): 1,\n",
       " ('statu', 0): 120,\n",
       " ('come', 0): 2654,\n",
       " ('life', 0): 2963,\n",
       " ('end', 0): 3501,\n",
       " ('villag', 0): 163,\n",
       " ('rule', 0): 187,\n",
       " ('evil', 0): 483,\n",
       " ('man', 0): 2438,\n",
       " ('there', 0): 910,\n",
       " ('giant', 0): 138,\n",
       " ('stone', 0): 155,\n",
       " ('keep', 0): 1125,\n",
       " ('pray', 0): 28,\n",
       " ('help', 0): 1202,\n",
       " ('themto', 0): 1,\n",
       " ('avail', 0): 248,\n",
       " ('thing', 0): 2679,\n",
       " ('go', 0): 3196,\n",
       " ('far', 0): 1002,\n",
       " ('statut', 0): 2,\n",
       " ('destroy', 0): 162,\n",
       " ('bad', 0): 1419,\n",
       " ('guysbut', 0): 1,\n",
       " ('start', 0): 1407,\n",
       " ('guy', 0): 1358,\n",
       " ('welldon', 0): 35,\n",
       " ('cool', 0): 353,\n",
       " ('special', 0): 801,\n",
       " ('effect', 0): 1324,\n",
       " ('love', 0): 4828,\n",
       " ('got', 0): 1221,\n",
       " ('rid', 0): 50,\n",
       " ('main', 0): 824,\n",
       " ('also', 0): 4208,\n",
       " ('enchant', 0): 64,\n",
       " ('forest', 0): 53,\n",
       " ('work', 0): 2883,\n",
       " ('kind', 0): 1073,\n",
       " ('interest', 0): 1879,\n",
       " ('toobr', 0): 49,\n",
       " ('masterpiec', 0): 374,\n",
       " ('unusu', 0): 210,\n",
       " ('combo', 0): 6,\n",
       " ('fantasyhorror', 0): 1,\n",
       " ('film', 0): 19750,\n",
       " ('worth', 0): 1014,\n",
       " ('catchingbut', 0): 1,\n",
       " ('print', 0): 104,\n",
       " ('found', 0): 1024,\n",
       " ('enjoy', 0): 2135,\n",
       " ('light', 0): 541,\n",
       " ('heart', 0): 714,\n",
       " ('comedi', 0): 1464,\n",
       " ('set', 0): 1599,\n",
       " ('wale', 0): 8,\n",
       " ('truli', 0): 803,\n",
       " ('funni', 0): 1546,\n",
       " ('sequenc', 0): 626,\n",
       " ('highlight', 0): 157,\n",
       " ('rivalri', 0): 25,\n",
       " ('two', 0): 2731,\n",
       " ('funer', 0): 75,\n",
       " ('director', 0): 1669,\n",
       " ('showbiz', 0): 8,\n",
       " ('idea', 0): 761,\n",
       " ('use', 0): 1965,\n",
       " ('christoph', 0): 160,\n",
       " ('walken', 0): 58,\n",
       " ('charact', 0): 5486,\n",
       " ('liven', 0): 1,\n",
       " ('genuin', 0): 266,\n",
       " ('laugh', 0): 1052,\n",
       " ('loud', 0): 130,\n",
       " ('moment', 0): 1137,\n",
       " ('flatlin', 0): 26,\n",
       " ('quit', 0): 1704,\n",
       " ('notic', 0): 345,\n",
       " ('impress', 0): 652,\n",
       " ('head', 0): 641,\n",
       " ('stori', 0): 5423,\n",
       " ('quick', 0): 125,\n",
       " ('pace', 0): 452,\n",
       " ('leav', 0): 884,\n",
       " ('constantli', 0): 190,\n",
       " ('absorb', 0): 73,\n",
       " ('mani', 0): 3047,\n",
       " ('tens', 0): 87,\n",
       " ('five', 0): 259,\n",
       " ('remark', 0): 259,\n",
       " ('student', 0): 272,\n",
       " ('doctor', 0): 362,\n",
       " ('notabl', 0): 128,\n",
       " ('julia', 0): 112,\n",
       " ('robert', 0): 562,\n",
       " ('kevin', 0): 140,\n",
       " ('bacon', 0): 26,\n",
       " ('among', 0): 397,\n",
       " ('one', 0): 10910,\n",
       " ('devis', 0): 17,\n",
       " ('mechan', 0): 59,\n",
       " ('remain', 0): 403,\n",
       " ('dead', 0): 563,\n",
       " ('get', 0): 4994,\n",
       " ('flatlinedfor', 0): 1,\n",
       " ('second', 0): 804,\n",
       " ('back', 0): 1914,\n",
       " ('lifebr', 0): 81,\n",
       " ('procedur', 0): 19,\n",
       " ('complex', 0): 310,\n",
       " ('involv', 0): 757,\n",
       " ('plethora', 0): 6,\n",
       " ('medic', 0): 79,\n",
       " ('knickknack', 0): 2,\n",
       " ('inject', 0): 26,\n",
       " ('electr', 0): 51,\n",
       " ('blanket', 0): 8,\n",
       " ('oxygen', 0): 6,\n",
       " ('mask', 0): 100,\n",
       " ('varieti', 0): 111,\n",
       " ('esoter', 0): 13,\n",
       " ('term', 0): 281,\n",
       " ('strongli', 0): 135,\n",
       " ('suspect', 0): 194,\n",
       " ('coin', 0): 32,\n",
       " ('word', 0): 723,\n",
       " ('need', 0): 1195,\n",
       " ('lay', 0): 72,\n",
       " ('funnili', 0): 4,\n",
       " ('follow', 0): 946,\n",
       " ('kiss', 0): 120,\n",
       " ('origin', 0): 1260,\n",
       " ('version', 0): 930,\n",
       " ('engin', 0): 66,\n",
       " ('simpl', 0): 558,\n",
       " ('stupid', 0): 223,\n",
       " ('extend', 0): 71,\n",
       " ('philosophi', 0): 54,\n",
       " ('well', 0): 4689,\n",
       " ('risk', 0): 111,\n",
       " ('euthan', 0): 4,\n",
       " ('revengetak', 0): 1,\n",
       " ('reader', 0): 57,\n",
       " ('let', 0): 956,\n",
       " ('continuebr', 0): 2,\n",
       " ('hope', 0): 929,\n",
       " ('find', 0): 2340,\n",
       " ('answer', 0): 239,\n",
       " ('religion', 0): 89,\n",
       " ('cannot', 0): 375,\n",
       " ('convincingli', 0): 52,\n",
       " ('becom', 0): 1338,\n",
       " ('famou', 0): 361,\n",
       " ('appli', 0): 69,\n",
       " ('scienc', 0): 180,\n",
       " ('around', 0): 1245,\n",
       " ('minut', 0): 838,\n",
       " ('world', 0): 1866,\n",
       " ('shaken', 0): 12,\n",
       " ('death', 0): 900,\n",
       " ('vision', 0): 154,\n",
       " ('incid', 0): 106,\n",
       " ('young', 0): 1795,\n",
       " ('strongest', 0): 37,\n",
       " ('kill', 0): 1029,\n",
       " ('boy', 0): 891,\n",
       " ('kid', 0): 1057,\n",
       " ('accid', 0): 138,\n",
       " ('still', 0): 2592,\n",
       " ('feel', 0): 2278,\n",
       " ('respons', 0): 210,\n",
       " ('itbr', 0): 365,\n",
       " ('success', 0): 597,\n",
       " ('other', 0): 724,\n",
       " ('suit', 0): 187,\n",
       " ('test', 0): 144,\n",
       " ('limit', 0): 233,\n",
       " ('long', 0): 1332,\n",
       " ('experi', 0): 729,\n",
       " ('deathbr', 0): 21,\n",
       " ('meanwhil', 0): 119,\n",
       " ('monster', 0): 238,\n",
       " ('past', 0): 580,\n",
       " ('futur', 0): 378,\n",
       " ('haunt', 0): 244,\n",
       " ('tortur', 0): 147,\n",
       " ('alon', 0): 370,\n",
       " ('camera', 0): 505,\n",
       " ('women', 0): 637,\n",
       " ('took', 0): 470,\n",
       " ('bed', 0): 213,\n",
       " ('see', 0): 5850,\n",
       " ('televis', 0): 392,\n",
       " ('play', 0): 3918,\n",
       " ('video', 0): 543,\n",
       " ('third', 0): 249,\n",
       " ('girl', 0): 1338,\n",
       " ('teas', 0): 29,\n",
       " ('school', 0): 606,\n",
       " ('fourth', 0): 64,\n",
       " ('suicidedead', 0): 1,\n",
       " ('father', 0): 923,\n",
       " ('responsiblebr', 0): 1,\n",
       " ('driven', 0): 92,\n",
       " ('insan', 0): 150,\n",
       " ('obsess', 0): 208,\n",
       " ('think', 0): 3350,\n",
       " ('seem', 0): 2406,\n",
       " ('want', 0): 2297,\n",
       " ('take', 0): 2752,\n",
       " ('reveng', 0): 168,\n",
       " ('focu', 0): 203,\n",
       " ('entir', 0): 679,\n",
       " ('pass', 0): 303,\n",
       " ('eye', 0): 858,\n",
       " ('die', 0): 699,\n",
       " ('whatev', 0): 185,\n",
       " ('stage', 0): 409,\n",
       " ('mostli', 0): 338,\n",
       " ('mind', 0): 874,\n",
       " ('didnt', 0): 1333,\n",
       " ('strong', 0): 559,\n",
       " ('somehow', 0): 214,\n",
       " ('resurfac', 0): 9,\n",
       " ('livesbr', 0): 24,\n",
       " ('extinguish', 0): 4,\n",
       " ('demon', 0): 134,\n",
       " ('except', 0): 593,\n",
       " ('realiz', 0): 539,\n",
       " ('way', 0): 3434,\n",
       " ('move', 0): 1096,\n",
       " ('session', 0): 36,\n",
       " ('tri', 0): 1919,\n",
       " ('round', 0): 124,\n",
       " ('sought', 0): 20,\n",
       " ('movi', 0): 17348,\n",
       " ('wonder', 0): 1776,\n",
       " ('thank', 0): 500,\n",
       " ('us', 0): 1773,\n",
       " ('happi', 0): 530,\n",
       " ('absolv', 0): 3,\n",
       " ('titan', 0): 102,\n",
       " ('classic', 0): 1031,\n",
       " ('realli', 0): 4242,\n",
       " ('surpris', 0): 964,\n",
       " ('solid', 0): 262,\n",
       " ('ten', 0): 305,\n",
       " ('overal', 0): 613,\n",
       " ('imdb', 0): 203,\n",
       " ('user', 0): 62,\n",
       " ('rank', 0): 123,\n",
       " ('mayb', 0): 754,\n",
       " ('give', 0): 2303,\n",
       " ('credit', 0): 432,\n",
       " ('nowaday', 0): 81,\n",
       " ('made', 0): 2821,\n",
       " ('someth', 0): 1686,\n",
       " ('came', 0): 719,\n",
       " ('peopl', 0): 3533,\n",
       " ('flock', 0): 31,\n",
       " ('theater', 0): 390,\n",
       " ('sister', 0): 452,\n",
       " ('would', 0): 4183,\n",
       " ('watch', 0): 5097,\n",
       " ('twice', 0): 146,\n",
       " ('day', 0): 1598,\n",
       " ('month', 0): 173,\n",
       " ('safe', 0): 104,\n",
       " ('say', 0): 2592,\n",
       " ('reason', 0): 859,\n",
       " ('disast', 0): 74,\n",
       " ('scene', 0): 3871,\n",
       " ('hard', 0): 894,\n",
       " ('forgot', 0): 57,\n",
       " ('frozen', 0): 20,\n",
       " ('babi', 0): 268,\n",
       " ('commit', 0): 237,\n",
       " ('suicid', 0): 171,\n",
       " ('someon', 0): 687,\n",
       " ('unruli', 0): 4,\n",
       " ('crowd', 0): 139,\n",
       " ('ship', 0): 172,\n",
       " ('convey', 0): 171,\n",
       " ('immediaci', 0): 4,\n",
       " ('emot', 0): 914,\n",
       " ('challeng', 0): 199,\n",
       " ('jame', 0): 531,\n",
       " ('cameron', 0): 56,\n",
       " ('step', 0): 243,\n",
       " ('forget', 0): 335,\n",
       " ('amaz', 0): 882,\n",
       " ('romanc', 0): 368,\n",
       " ('jack', 0): 389,\n",
       " ('rose', 0): 139,\n",
       " ('whether', 0): 376,\n",
       " ('relationship', 0): 675,\n",
       " ('figment', 0): 6,\n",
       " ('imagin', 0): 580,\n",
       " ('bare', 0): 138,\n",
       " ('knew', 0): 353,\n",
       " ('trust', 0): 144,\n",
       " ('sure', 0): 1090,\n",
       " ('hell', 0): 333,\n",
       " ('romeo', 0): 28,\n",
       " ('juliet', 0): 48,\n",
       " ('run', 0): 862,\n",
       " ('money', 0): 529,\n",
       " ('ill', 0): 389,\n",
       " ('great', 0): 5034,\n",
       " ('core', 0): 101,\n",
       " ('power', 0): 890,\n",
       " ('told', 0): 498,\n",
       " ('brilliant', 0): 698,\n",
       " ('act', 0): 2637,\n",
       " ('excel', 0): 1452,\n",
       " ('cinematographi', 0): 430,\n",
       " ('beauti', 0): 1903,\n",
       " ('music', 0): 2081,\n",
       " ('crew', 0): 265,\n",
       " ('full', 0): 717,\n",
       " ('dedic', 0): 78,\n",
       " ('worker', 0): 91,\n",
       " ('blow', 0): 162,\n",
       " ('hate', 0): 434,\n",
       " ('everi', 0): 1574,\n",
       " ('horrordiamond', 0): 1,\n",
       " ('craft', 0): 159,\n",
       " ('complet', 0): 909,\n",
       " ('awestruck', 0): 4,\n",
       " ('sheer', 0): 99,\n",
       " ('brillianc', 0): 59,\n",
       " ('less', 0): 636,\n",
       " ('diamond', 0): 50,\n",
       " ('brim', 0): 18,\n",
       " ('eerinesschil', 0): 1,\n",
       " ('anticip', 0): 61,\n",
       " ('dark', 0): 714,\n",
       " ('atmospher', 0): 430,\n",
       " ('favourit', 0): 181,\n",
       " ('horror', 0): 1202,\n",
       " ('cours', 0): 1083,\n",
       " ('contain', 0): 310,\n",
       " ('probabl', 0): 1050,\n",
       " ('singl', 0): 279,\n",
       " ('flat', 0): 108,\n",
       " ('scari', 0): 257,\n",
       " ('whole', 0): 996,\n",
       " ('histori', 0): 598,\n",
       " ('point', 0): 1310,\n",
       " ('know', 0): 2799,\n",
       " ('inevit', 0): 112,\n",
       " ('happen', 0): 1297,\n",
       " ('rememb', 0): 921,\n",
       " ('exactli', 0): 387,\n",
       " ('frighten', 0): 120,\n",
       " ('wit', 0): 314,\n",
       " ('fail', 0): 279,\n",
       " ('right', 0): 1402,\n",
       " ('terror', 0): 139,\n",
       " ('saw', 0): 1387,\n",
       " ('must', 0): 1298,\n",
       " ('said', 0): 818,\n",
       " ('scare', 0): 240,\n",
       " ('jade', 0): 42,\n",
       " ('fan', 0): 1365,\n",
       " ('noth', 0): 998,\n",
       " ('short', 0): 878,\n",
       " ('pure', 0): 304,\n",
       " ('perfect', 0): 1032,\n",
       " ('unlik', 0): 405,\n",
       " ('american', 0): 1104,\n",
       " ('brit', 0): 26,\n",
       " ('subtleti', 0): 70,\n",
       " ('pride', 0): 68,\n",
       " ('art', 0): 661,\n",
       " ('order', 0): 471,\n",
       " ('reli', 0): 87,\n",
       " ('potent', 0): 36,\n",
       " ('creepinessin', 0): 1,\n",
       " ('caseof', 0): 1,\n",
       " ('suggest', 0): 297,\n",
       " ('element', 0): 487,\n",
       " ('impecc', 0): 35,\n",
       " ('piec', 0): 689,\n",
       " ('menac', 0): 83,\n",
       " ('paulin', 0): 11,\n",
       " ('moran', 0): 18,\n",
       " ('could', 0): 2349,\n",
       " ('make', 0): 5266,\n",
       " ('devil', 0): 108,\n",
       " ('whimper', 0): 5,\n",
       " ('that', 0): 1161,\n",
       " ('note', 0): 435,\n",
       " ('dement', 0): 28,\n",
       " ('dont', 0): 2636,\n",
       " ('honestli', 0): 114,\n",
       " ('frankli', 0): 75,\n",
       " ('deserv', 0): 492,\n",
       " ('either', 0): 500,\n",
       " ('chikamatu', 0): 1,\n",
       " ('monogatari', 0): 3,\n",
       " ('ive', 0): 1252,\n",
       " ('abl', 0): 605,\n",
       " ('abysm', 0): 9,\n",
       " ('almost', 0): 1242,\n",
       " ('couldnt', 0): 359,\n",
       " ('shame', 0): 262,\n",
       " ('greatest', 0): 426,\n",
       " ('mizoguchi', 0): 8,\n",
       " ('believ', 0): 1427,\n",
       " ('done', 0): 1203,\n",
       " ('japanes', 0): 283,\n",
       " ('bit', 0): 1413,\n",
       " ('straighter', 0): 1,\n",
       " ('favorit', 0): 879,\n",
       " ('sansho', 0): 2,\n",
       " ('bailiff', 0): 2,\n",
       " ('ugetsu', 0): 2,\n",
       " ('essenti', 0): 190,\n",
       " ('tale', 0): 456,\n",
       " ('tragic', 0): 214,\n",
       " ('case', 0): 598,\n",
       " ('transgress', 0): 4,\n",
       " ('cross', 0): 159,\n",
       " ('strict', 0): 37,\n",
       " ('class', 0): 363,\n",
       " ('boundari', 0): 25,\n",
       " ('alway', 0): 1621,\n",
       " ('exquisit', 0): 50,\n",
       " ('express', 0): 348,\n",
       " ('tone', 0): 222,\n",
       " ('defianc', 0): 6,\n",
       " ('pleas', 0): 403,\n",
       " ('im', 0): 1530,\n",
       " ('eagerli', 0): 26,\n",
       " ('await', 0): 46,\n",
       " ('restor', 0): 83,\n",
       " ('dvd', 0): 1225,\n",
       " ('releas', 0): 877,\n",
       " ('whenev', 0): 87,\n",
       " ('may', 0): 1544,\n",
       " ('hello', 0): 22,\n",
       " ('dirti', 0): 165,\n",
       " ('danc', 0): 678,\n",
       " ('across', 0): 422,\n",
       " ('messag', 0): 422,\n",
       " ('board', 0): 150,\n",
       " ('bore', 0): 396,\n",
       " ('absolut', 0): 669,\n",
       " ('dd', 0): 9,\n",
       " ('friend', 0): 1388,\n",
       " ('hous', 0): 789,\n",
       " ('13', 0): 65,\n",
       " ('17', 0): 52,\n",
       " ('hook', 0): 141,\n",
       " ('least', 0): 835,\n",
       " ('10', 0): 807,\n",
       " ('soon', 0): 486,\n",
       " ('bought', 0): 184,\n",
       " ('memor', 0): 402,\n",
       " ('script', 0): 805,\n",
       " ('recit', 0): 29,\n",
       " ('anyon', 0): 1006,\n",
       " ('ask', 0): 513,\n",
       " ('carri', 0): 396,\n",
       " ('watermelon', 0): 4,\n",
       " ('gotten', 0): 85,\n",
       " ('soundtrack', 0): 432,\n",
       " ('record', 0): 242,\n",
       " ('micki', 0): 4,\n",
       " ('sylvia', 0): 21,\n",
       " ('song', 0): 906,\n",
       " ('rington', 0): 1,\n",
       " ('phone', 0): 111,\n",
       " ('crap', 0): 128,\n",
       " ('care', 0): 722,\n",
       " ('brill', 0): 3,\n",
       " ('read', 0): 917,\n",
       " ('comment', 0): 636,\n",
       " ('earlier', 0): 273,\n",
       " ('question', 0): 543,\n",
       " ('lot', 0): 1990,\n",
       " ('1', 0): 287,\n",
       " ('trivial', 0): 26,\n",
       " ('age', 0): 706,\n",
       " ('lisa', 0): 57,\n",
       " ('matter', 0): 582,\n",
       " ('much', 0): 3617,\n",
       " ('teenag', 0): 332,\n",
       " ('60', 0): 169,\n",
       " ('enough', 0): 1116,\n",
       " ('2', 0): 637,\n",
       " ('ye', 0): 556,\n",
       " ('edit', 0): 359,\n",
       " ('your', 0): 641,\n",
       " ('talk', 0): 738,\n",
       " ('sound', 0): 754,\n",
       " ('repli', 0): 54,\n",
       " ('id', 0): 450,\n",
       " ('opinion', 0): 437,\n",
       " ('cheer', 0): 98,\n",
       " ('charliesangel415', 0): 1,\n",
       " ('xxx', 0): 4,\n",
       " ('electrifi', 0): 13,\n",
       " ('1983', 0): 40,\n",
       " ('1984', 0): 28,\n",
       " ('steven', 0): 100,\n",
       " ('biko', 0): 36,\n",
       " ('gone', 0): 278,\n",
       " ('half', 0): 512,\n",
       " ('reson', 0): 42,\n",
       " ('courag', 0): 102,\n",
       " ('wisdom', 0): 35,\n",
       " ('forgotten', 0): 151,\n",
       " ('final', 0): 1323,\n",
       " ('south', 0): 208,\n",
       " ('africa', 0): 82,\n",
       " ('1993', 0): 21,\n",
       " ('larg', 0): 308,\n",
       " ('friendship', 0): 223,\n",
       " ('loyalti', 0): 51,\n",
       " ('heard', 0): 422,\n",
       " ('audienc', 0): 988,\n",
       " ('natal', 0): 2,\n",
       " ('sing', 0): 409,\n",
       " ('nkosi', 0): 1,\n",
       " ('sikelel', 0): 1,\n",
       " ('iafrika', 0): 1,\n",
       " ('hair', 0): 164,\n",
       " ('stood', 0): 61,\n",
       " ('learn', 0): 635,\n",
       " ('immens', 0): 80,\n",
       " ('original1939', 0): 1,\n",
       " ('appreci', 0): 428,\n",
       " ('familiar', 0): 287,\n",
       " ('english', 0): 435,\n",
       " ('cultur', 0): 343,\n",
       " ('custom', 0): 63,\n",
       " ('profpet', 0): 1,\n",
       " ('otool', 0): 28,\n",
       " ('public', 0): 260,\n",
       " ('refer', 0): 264,\n",
       " ('privat', 0): 121,\n",
       " ('eg', 0): 61,\n",
       " ('andov', 0): 1,\n",
       " ('ascet', 0): 3,\n",
       " ('person', 0): 1416,\n",
       " ('surfac', 0): 107,\n",
       " ('appear', 0): 878,\n",
       " ('stiff', 0): 35,\n",
       " ('stuffi', 0): 9,\n",
       " ('uncar', 0): 5,\n",
       " ('weak', 0): 242,\n",
       " ('effemin', 0): 9,\n",
       " ('educ', 0): 125,\n",
       " ('standard', 0): 283,\n",
       " ('lad', 0): 19,\n",
       " ('ie', 0): 103,\n",
       " ('doesnt', 0): 1477,\n",
       " ('cheap', 0): 150,\n",
       " ('meetsthrough', 0): 1,\n",
       " ('introduct', 0): 64,\n",
       " ('hall', 0): 138,\n",
       " ('girlpetula', 0): 1,\n",
       " ('clark', 0): 97,\n",
       " ('total', 0): 591,\n",
       " ('smitten', 0): 13,\n",
       " ('england', 0): 141,\n",
       " ('connot', 0): 6,\n",
       " ('extrem', 0): 621,\n",
       " ('sexual', 0): 355,\n",
       " ('promiscu', 0): 9,\n",
       " ('definit', 0): 934,\n",
       " ('lower', 0): 65,\n",
       " ('prof', 0): 6,\n",
       " ('fact', 0): 1270,\n",
       " ('tough', 0): 201,\n",
       " ('loyal', 0): 53,\n",
       " ('institut', 0): 41,\n",
       " ('andor', 0): 89,\n",
       " ('respect', 0): 393,\n",
       " ('lover', 0): 288,\n",
       " ('wifesh', 0): 1,\n",
       " ('leaven', 0): 2,\n",
       " ('allow', 0): 447,\n",
       " ('grow', 0): 317,\n",
       " ('benefit', 0): 73,\n",
       " ('belov', 0): 81,\n",
       " ('ww', 0): 18,\n",
       " ('ii', 0): 154,\n",
       " ('goe', 0): 882,\n",
       " ('1969', 0): 40,\n",
       " ('weve', 0): 104,\n",
       " ('british', 0): 410,\n",
       " ('invasionbeetl', 0): 1,\n",
       " ('etc', 0): 392,\n",
       " ('hit', 0): 570,\n",
       " ('popular', 0): 298,\n",
       " ('thenstil', 0): 1,\n",
       " ('photographi', 0): 210,\n",
       " ('perfectli', 0): 382,\n",
       " ('chipsal', 0): 1,\n",
       " ('receiv', 0): 241,\n",
       " ('recognit', 0): 60,\n",
       " ('side', 0): 621,\n",
       " ('ireland', 0): 40,\n",
       " ('normal', 0): 301,\n",
       " ('narrowmind', 0): 7,\n",
       " ('religi', 0): 118,\n",
       " ('prejud', 0): 5,\n",
       " ('friendliest', 0): 2,\n",
       " ('race', 0): 211,\n",
       " ('admiss', 0): 27,\n",
       " ('inhabit', 0): 77,\n",
       " ('fethard', 0): 1,\n",
       " ('old', 0): 1524,\n",
       " ('event', 0): 557,\n",
       " ('fairli', 0): 214,\n",
       " ('accur', 0): 159,\n",
       " ('though', 0): 1802,\n",
       " ('insist', 0): 73,\n",
       " ('filmmak', 0): 415,\n",
       " ('invent', 0): 129,\n",
       " ('violent', 0): 231,\n",
       " ('spice', 0): 15,\n",
       " ('actionbr', 0): 16,\n",
       " ('unpopular', 0): 7,\n",
       " ('portray', 0): 960,\n",
       " ('cathol', 0): 38,\n",
       " ('church', 0): 136,\n",
       " ('repres', 0): 197,\n",
       " ('organis', 0): 15,\n",
       " ('veto', 0): 4,\n",
       " ('minor', 0): 220,\n",
       " ('protest', 0): 45,\n",
       " ('jewsbr', 0): 1,\n",
       " ('fascin', 0): 323,\n",
       " ('insight', 0): 136,\n",
       " ('issu', 0): 359,\n",
       " ('caught', 0): 252,\n",
       " ('strike', 0): 168,\n",
       " ('terribl', 0): 247,\n",
       " ('clever', 0): 264,\n",
       " ('french', 0): 418,\n",
       " ('arti', 0): 14,\n",
       " ('underplay', 0): 18,\n",
       " ('agoni', 0): 21,\n",
       " ('ultim', 0): 319,\n",
       " ('downbeat', 0): 12,\n",
       " ('view', 0): 1044,\n",
       " ('vantag', 0): 7,\n",
       " ('37', 0): 10,\n",
       " ('vacuou', 0): 3,\n",
       " ('pretenti', 0): 50,\n",
       " ('unsatisfyingbr', 0): 2,\n",
       " ('summar', 0): 14,\n",
       " ('dramat', 0): 296,\n",
       " ('flaw', 0): 297,\n",
       " ('lead', 0): 1091,\n",
       " ('corey', 0): 19,\n",
       " ('vogel', 0): 5,\n",
       " ('squar', 0): 54,\n",
       " ('within', 0): 325,\n",
       " ('code', 0): 74,\n",
       " ('harm', 0): 43,\n",
       " ('initi', 0): 180,\n",
       " ('moreov', 0): 42,\n",
       " ('particular', 0): 338,\n",
       " ('victim', 0): 252,\n",
       " ('former', 0): 246,\n",
       " ('gangland', 0): 4,\n",
       " ('stole', 0): 61,\n",
       " ('repeatedli', 0): 47,\n",
       " ('appar', 0): 296,\n",
       " ('dare', 0): 150,\n",
       " ('borrow', 0): 85,\n",
       " ('thousand', 0): 106,\n",
       " ('franc', 0): 164,\n",
       " ('ought', 0): 40,\n",
       " ('due', 0): 382,\n",
       " ('break', 0): 404,\n",
       " ('instead', 0): 546,\n",
       " ('wors', 0): 180,\n",
       " ('logic', 0): 93,\n",
       " ('storybr', 0): 87,\n",
       " ('might', 0): 954,\n",
       " ('contend', 0): 28,\n",
       " ('real', 0): 1965,\n",
       " ('villain', 0): 333,\n",
       " ('collud', 0): 2,\n",
       " ('polic', 0): 454,\n",
       " ('sell', 0): 179,\n",
       " ('top', 0): 755,\n",
       " ('shown', 0): 468,\n",
       " ('gangster', 0): 138,\n",
       " ('gloat', 0): 4,\n",
       " ('victori', 0): 54,\n",
       " ('materi', 0): 265,\n",
       " ('sever', 0): 704,\n",
       " ('he', 0): 989,\n",
       " ('nowher', 0): 93,\n",
       " ('conclus', 0): 159,\n",
       " ('tension', 0): 180,\n",
       " ('feud', 0): 11,\n",
       " ('unresolvedbr', 0): 1,\n",
       " ('nonetheless', 0): 87,\n",
       " ('slow', 0): 385,\n",
       " ('deliber', 0): 67,\n",
       " ('deadpan', 0): 27,\n",
       " ('perform', 0): 2724,\n",
       " ('elabor', 0): 49,\n",
       " ('heist', 0): 60,\n",
       " ('encapsul', 0): 12,\n",
       " ('artfilm', 0): 2,\n",
       " ('style', 0): 713,\n",
       " ('late', 0): 544,\n",
       " ('1960', 0): 73,\n",
       " ('novel', 0): 456,\n",
       " ('kite', 0): 30,\n",
       " ('runner', 0): 46,\n",
       " ('base', 0): 644,\n",
       " ('wife', 0): 827,\n",
       " ('daughter', 0): 494,\n",
       " ('thought', 0): 1406,\n",
       " ('fell', 0): 113,\n",
       " ('book', 0): 922,\n",
       " ('prepar', 0): 164,\n",
       " ('havoc', 0): 17,\n",
       " ('creat', 0): 743,\n",
       " ('soviet', 0): 94,\n",
       " ('invas', 0): 44,\n",
       " ('afghanistan', 0): 35,\n",
       " ('intoler', 0): 26,\n",
       " ('taliban', 0): 10,\n",
       " ('regim', 0): 27,\n",
       " ('rate', 0): 732,\n",
       " ('c', 0): 84,\n",
       " ('b', 0): 189,\n",
       " ('human', 0): 1098,\n",
       " ('afghanamerican', 0): 1,\n",
       " ('countri', 0): 507,\n",
       " ('rescu', 0): 127,\n",
       " ('son', 0): 596,\n",
       " ('childhood', 0): 170,\n",
       " ('playmat', 0): 7,\n",
       " ('count', 0): 165,\n",
       " ('particularli', 0): 457,\n",
       " ('convinc', 0): 373,\n",
       " ('excit', 0): 358,\n",
       " ('part', 0): 2058,\n",
       " ('howev', 0): 1381,\n",
       " ('contest', 0): 64,\n",
       " ('kabul', 0): 10,\n",
       " ('later', 0): 955,\n",
       " ('minicontest', 0): 1,\n",
       " ('california', 0): 87,\n",
       " ('equal', 0): 275,\n",
       " ('wager', 0): 8,\n",
       " ('witti', 0): 155,\n",
       " ('twist', 0): 525,\n",
       " ('whodunnit', 0): 8,\n",
       " ('ever', 0): 2098,\n",
       " ('reev', 0): 42,\n",
       " ('micheal', 0): 21,\n",
       " ('cain', 0): 93,\n",
       " ('kept', 0): 275,\n",
       " ('affair', 0): 175,\n",
       " ('classi', 0): 24,\n",
       " ('prop', 0): 46,\n",
       " ('lend', 0): 59,\n",
       " ('sens', 0): 856,\n",
       " ('proceed', 0): 69,\n",
       " ('minimalist', 0): 19,\n",
       " ('picturebr', 0): 23,\n",
       " ('complain', 0): 125,\n",
       " ('lack', 0): 502,\n",
       " ('decent', 0): 250,\n",
       " ('widescreen', 0): 56,\n",
       " ('fullscreen', 0): 10,\n",
       " ('prove', 0): 423,\n",
       " ('endur', 0): 51,\n",
       " ('present', 0): 697,\n",
       " ('awesom', 0): 262,\n",
       " ('delux', 0): 3,\n",
       " ('cash', 0): 66,\n",
       " ('magic', 0): 322,\n",
       " ('thoughtprovok', 0): 48,\n",
       " ('heartwarm', 0): 62,\n",
       " ('direct', 0): 1401,\n",
       " ('cast', 0): 1767,\n",
       " ('marvel', 0): 204,\n",
       " ('score', 0): 573,\n",
       " ('lit', 0): 27,\n",
       " ('morebr', 0): 45,\n",
       " ('warm', 0): 160,\n",
       " ('spring', 0): 64,\n",
       " ('contact', 0): 101,\n",
       " ('field', 0): 120,\n",
       " ('dream', 0): 485,\n",
       " ('groundhog', 0): 7,\n",
       " ('kpaxbr', 0): 3,\n",
       " ('highli', 0): 637,\n",
       " ('recommend', 0): 1174,\n",
       " ('friz', 0): 3,\n",
       " ('freleng', 0): 3,\n",
       " ('abirrrd', 0): 3,\n",
       " ('best', 0): 3324,\n",
       " ('sylvest', 0): 21,\n",
       " ('tweeti', 0): 13,\n",
       " ('cartoon', 0): 344,\n",
       " ('repetit', 0): 32,\n",
       " ('seri', 0): 1448,\n",
       " ('simpli', 0): 698,\n",
       " ('transplant', 0): 16,\n",
       " ('tire', 0): 150,\n",
       " ('gag', 0): 149,\n",
       " ('new', 0): 1837,\n",
       " ('concept', 0): 196,\n",
       " ('domest', 0): 44,\n",
       " ('pet', 0): 80,\n",
       " ('sent', 0): 168,\n",
       " ('unattend', 0): 3,\n",
       " ('train', 0): 346,\n",
       " ('offici', 0): 104,\n",
       " ('viciou', 0): 48,\n",
       " ('bulldog', 0): 6,\n",
       " ('deal', 0): 642,\n",
       " ('cut', 0): 440,\n",
       " ('extra', 0): 223,\n",
       " ('particip', 0): 75,\n",
       " ('exampl', 0): 514,\n",
       " ('addit', 0): 183,\n",
       " ('although', 0): 1165,\n",
       " ('especi', 0): 1192,\n",
       " ('creation', 0): 86,\n",
       " ('throw', 0): 229,\n",
       " ('obstacl', 0): 38,\n",
       " ('path', 0): 111,\n",
       " ('battl', 0): 373,\n",
       " ('earli', 0): 669,\n",
       " ('press', 0): 72,\n",
       " ('button', 0): 52,\n",
       " ('often', 0): 762,\n",
       " ('irrit', 0): 68,\n",
       " ('forc', 0): 575,\n",
       " ('cute', 0): 223,\n",
       " ('delici', 0): 68,\n",
       " ('antic', 0): 54,\n",
       " ('dog', 0): 337,\n",
       " ('culmin', 0): 37,\n",
       " ('surprisingli', 0): 248,\n",
       " ('brutal', 0): 246,\n",
       " ('climax', 0): 173,\n",
       " ('unfortun', 0): 421,\n",
       " ('mar', 0): 44,\n",
       " ('unfunni', 0): 16,\n",
       " ('nonquip', 0): 1,\n",
       " ('septemb', 0): 50,\n",
       " ('mother', 0): 769,\n",
       " ('expect', 0): 1052,\n",
       " ('treasur', 0): 113,\n",
       " ('situat', 0): 563,\n",
       " ('remind', 0): 409,\n",
       " ('grandmoth', 0): 52,\n",
       " ('meryl', 0): 31,\n",
       " ('streep', 0): 57,\n",
       " ('rene', 0): 49,\n",
       " ('zellweg', 0): 22,\n",
       " ('incred', 0): 479,\n",
       " ('import', 0): 539,\n",
       " ('famili', 0): 1513,\n",
       " ('rent', 0): 320,\n",
       " ('cant', 0): 1219,\n",
       " ('12', 0): 168,\n",
       " ('arnald', 0): 1,\n",
       " ('hillerman', 0): 3,\n",
       " ('accident', 0): 104,\n",
       " ('older', 0): 260,\n",
       " ('brother', 0): 689,\n",
       " ('eugen', 0): 53,\n",
       " ('arrest', 0): 77,\n",
       " ('interact', 0): 165,\n",
       " ('refug', 0): 15,\n",
       " ('grandfath', 0): 82,\n",
       " ('compass', 0): 48,\n",
       " ('realism', 0): 137,\n",
       " ('captiv', 0): 139,\n",
       " ('true2lif', 0): 1,\n",
       " ('satisfi', 0): 205,\n",
       " ('desir', 0): 240,\n",
       " ('action', 0): 1355,\n",
       " ('thrill', 0): 176,\n",
       " ('taken', 0): 410,\n",
       " ('stick', 0): 175,\n",
       " ('slate', 0): 12,\n",
       " ('critic', 0): 505,\n",
       " ('blame', 0): 99,\n",
       " ('wreck', 0): 43,\n",
       " ('nicola', 0): 42,\n",
       " ('cage', 0): 100,\n",
       " ('career', 0): 423,\n",
       " ('meant', 0): 206,\n",
       " ('epic', 0): 156,\n",
       " ('oscar', 0): 410,\n",
       " ('bruckbust', 0): 1,\n",
       " ('fast', 0): 235,\n",
       " ('car', 0): 541,\n",
       " ('tin', 0): 20,\n",
       " ('treat', 0): 313,\n",
       " ('everyth', 0): 914,\n",
       " ('ferrari', 0): 13,\n",
       " ('merc', 0): 1,\n",
       " ('hummer', 0): 3,\n",
       " ('eleanor', 0): 19,\n",
       " ('youd', 0): 99,\n",
       " ('push', 0): 179,\n",
       " ('better', 0): 1761,\n",
       " ('melvyn', 0): 19,\n",
       " ('dougla', 0): 120,\n",
       " ('polish', 0): 77,\n",
       " ('role', 0): 1865,\n",
       " ('detect', 0): 233,\n",
       " ('place', 0): 1133,\n",
       " ('duti', 0): 60,\n",
       " ('adventur', 0): 390,\n",
       " ('warmli', 0): 8,\n",
       " ('joan', 0): 113,\n",
       " ('blondel', 0): 35,\n",
       " ('illiter', 0): 10,\n",
       " ('review', 0): 712,\n",
       " ('wrote', 0): 173,\n",
       " ('eversuff', 0): 1,\n",
       " ('sweetheartit', 0): 1,\n",
       " ('screwbal', 0): 23,\n",
       " ('thin', 0): 58,\n",
       " ('mantyp', 0): 1,\n",
       " ('guess', 0): 436,\n",
       " ('reach', 0): 226,\n",
       " ('ingredi', 0): 57,\n",
       " ('fun', 0): 1232,\n",
       " ('85', 0): 17,\n",
       " ('episod', 0): 1058,\n",
       " ('pacey', 0): 2,\n",
       " ('fine', 0): 675,\n",
       " ('actor', 0): 2377,\n",
       " ('nearli', 0): 272,\n",
       " ('william', 0): 406,\n",
       " ('columbo', 0): 80,\n",
       " ('wish', 0): 465,\n",
       " ('typic', 0): 421,\n",
       " ('drama', 0): 753,\n",
       " ('littl', 0): 2552,\n",
       " ('catch', 0): 271,\n",
       " ('relat', 0): 352,\n",
       " ('possibl', 0): 650,\n",
       " ('showbr', 0): 46,\n",
       " ('spoiler', 0): 284,\n",
       " ('unfamiliar', 0): 29,\n",
       " ('obvious', 0): 360,\n",
       " ('cooper', 0): 107,\n",
       " ('middl', 0): 269,\n",
       " ...}"
      ]
     },
     "execution_count": 20,
     "metadata": {},
     "output_type": "execute_result"
    }
   ],
   "source": [
    "## Run this cell to get an idea about the corpus of words and their occurrence along with labels. \n",
    "## In this, we are computing the frequency of occurrence of word given that a review is 'positive'.\n",
    "## Similarly, we also compute the frequence of occurence of word given that a review is 'negative'.\n",
    "freqs"
   ]
  },
  {
   "cell_type": "markdown",
   "id": "759c24bc",
   "metadata": {
    "id": "759c24bc"
   },
   "source": [
    "## Q4. Training the Naive Bayes Model: (20 points)\n",
    "\n",
    "Now we are in the training phase of the Naive Bayes algorithm. In this cell, take a look at the ways to calculate the log likelihood and log prior values as these are important for testing in the next few cells. \n",
    "\n",
    "Also calculate the frequency of occurrence of words where the output is negative. In the same way, calculate the word frequency count using the above functions in order to compute the log likelihood.\n",
    "\n",
    "Return the logprior and loglikelihood output by the model from this function. "
   ]
  },
  {
   "cell_type": "code",
   "execution_count": 21,
   "id": "8bef6682",
   "metadata": {},
   "outputs": [],
   "source": [
    "def train_naive_bayes(freqs, train_x, train_y):\n",
    "    '''\n",
    "    Input:\n",
    "        freqs: dictionary from (word, label) to how often the word appears\n",
    "        train_x: a list of reviews\n",
    "        train_y: a list of labels correponding to the reviews (0,1)\n",
    "    Output:\n",
    "        logprior: the log prior. (equation 3 above)\n",
    "        loglikelihood: the log likelihood of you Naive bayes equation. (equation 6 above)\n",
    "    '''\n",
    "    loglikelihood = {}\n",
    "    logprior = 0\n",
    "    # calculate V, the number of unique words in the vocabulary\n",
    "    vocab = set([pair[0] for pair in freqs.keys()])\n",
    "    V = len(vocab)\n",
    "\n",
    "    # calculate num_pos and num_neg - the total number of positive and negative words for all documents\n",
    "    num_pos = num_neg = 0\n",
    "    for pair in freqs.keys():\n",
    "        # if the label is positive (greater than zero)\n",
    "        if pair[1] > 0:\n",
    "            num_pos += freqs[pair]\n",
    "        else:\n",
    "            num_neg += freqs[pair]\n",
    "\n",
    "    # Calculate num_doc, the number of documents\n",
    "    num_doc = train_y.shape[0]\n",
    "\n",
    "    # Calculate D_pos, the number of positive documents \n",
    "    pos_num_docs = train_y[train_y == 0].shape[0]\n",
    "\n",
    "    # Calculate D_neg, the number of negative documents \n",
    "    neg_num_docs = train_y[train_y == 1].shape[0]\n",
    "\n",
    "    # Calculate logprior\n",
    "    logprior = np.log(pos_num_docs) - np.log(neg_num_docs)\n",
    "\n",
    "    # For each word in the vocabulary...\n",
    "    for word in vocab:\n",
    "        # get the positive and negative frequency of the word\n",
    "        freq_pos = find_occurrence(freqs, word, 1) # freqs.get((word, 1), 0)\n",
    "        freq_neg = find_occurrence(freqs, word, 0)\n",
    "\n",
    "        # calculate the probability that each word is positive, and negative\n",
    "        p_w_pos = (freq_pos + 1) / (num_pos + V)\n",
    "        p_w_neg = (freq_neg + 1) / (num_neg + V)\n",
    "\n",
    "        # calculate the log likelihood of the word\n",
    "        loglikelihood[word] = np.log(p_w_pos/p_w_neg)\n",
    "\n",
    "    return logprior, loglikelihood"
   ]
  },
  {
   "cell_type": "code",
   "execution_count": 22,
   "id": "1561d892",
   "metadata": {
    "id": "1561d892"
   },
   "outputs": [
    {
     "name": "stdout",
     "output_type": "stream",
     "text": [
      "0.0\n",
      "75444\n"
     ]
    }
   ],
   "source": [
    "# You do not have to input any code in this cell, but it is relevant to grading, so please do not change anything\n",
    "logprior, loglikelihood = train_naive_bayes(freqs, X_train, y_train)\n",
    "print(logprior)\n",
    "print(len(loglikelihood))"
   ]
  },
  {
   "cell_type": "markdown",
   "id": "19d9c882",
   "metadata": {
    "id": "19d9c882"
   },
   "source": [
    "### Expected Output \n",
    "\n",
    "0.0 <br>\n",
    "91425"
   ]
  },
  {
   "cell_type": "markdown",
   "id": "78b51303",
   "metadata": {
    "id": "78b51303"
   },
   "source": [
    "## Q5. Implementing Naive Bayes Predict Function: (10 points)\n",
    "\n",
    "It is now time to make our prediction as to whether a given review is negative or positive respectively. \n",
    "\n",
    "After adding the log likelihood values, ensure that the output is 1 (negative) if the sum of the log likelihood value is greater than 0 and 0 (positive) if the sum of the log likelihood is less than or equal to 0. "
   ]
  },
  {
   "cell_type": "code",
   "execution_count": 23,
   "id": "b692c2f9",
   "metadata": {
    "id": "b692c2f9"
   },
   "outputs": [],
   "source": [
    "# TASK 4 CELL\n",
    "\n",
    "def naive_bayes_predict(review, logprior, loglikelihood):\n",
    "    '''\n",
    "    Params:\n",
    "        review: a string\n",
    "        logprior: a number\n",
    "        loglikelihood: a dictionary of words mapping to numbers\n",
    "    Return:\n",
    "        total_prob: the sum of all the loglikelihoods of each word in the review (if found in the dictionary) + logprior (a number)\n",
    "    '''\n",
    "    # process the review to get a list of words\n",
    "    word_l = clean_review(review).split()\n",
    "#     print(\"WORD_L:   \", word_l)\n",
    "    # initialize probability to zero\n",
    "    total_prob = 0\n",
    "\n",
    "    # add the logprior\n",
    "    total_prob += logprior\n",
    "\n",
    "    for word in word_l:\n",
    "        # check if the word exists in the loglikelihood dictionary\n",
    "        if word in loglikelihood:\n",
    "            total_prob = total_prob + loglikelihood[word]\n",
    "#             print(total_prob, loglikelihood[word])\n",
    "    if total_prob > 0:\n",
    "        total_prob = 1\n",
    "    else:\n",
    "        total_prob = 0\n",
    "\n",
    "    return total_prob"
   ]
  },
  {
   "cell_type": "code",
   "execution_count": null,
   "id": "bd64715b",
   "metadata": {},
   "outputs": [],
   "source": []
  },
  {
   "cell_type": "code",
   "execution_count": 24,
   "id": "4b170333",
   "metadata": {
    "colab": {
     "base_uri": "https://localhost:8080/"
    },
    "id": "4b170333",
    "outputId": "0cf6bc90-90e8-4dee-bf95-7eaf39dce147"
   },
   "outputs": [
    {
     "name": "stdout",
     "output_type": "stream",
     "text": [
      "The expected output is 1\n"
     ]
    }
   ],
   "source": [
    "# You do not have to input any code in this cell, but it is relevant to grading, so please do not change anything\n",
    "\n",
    "# Experiment with your own review.\n",
    "my_review = \"I thought this series was going to be another fun, action series with some dynamic plots and great performances. I was wrong. While I like Jamie Denton, this show is hardly worth watching at all, unless you enjoy watching some people brutalized and the actions of the agents supposedly warranted under the theme of national security. The show is great propaganda for the current government, and spews out jingoism as though we talk that way every day. After a couple of episodes, it was boring the hell out of me, and I started watching reruns of House Invaders on BBCAmerica instead. Rather watch CSI and Without a Trace, without a doubt.\"\n",
    "p = naive_bayes_predict(my_review, logprior, loglikelihood)\n",
    "print('The expected output is', p)"
   ]
  },
  {
   "cell_type": "markdown",
   "id": "6242708f",
   "metadata": {
    "id": "6242708f"
   },
   "source": [
    "### Expected Output :\n",
    "The expected output is 1"
   ]
  },
  {
   "cell_type": "markdown",
   "id": "7c4eeb71",
   "metadata": {
    "id": "7c4eeb71"
   },
   "source": [
    "## Q6. Implementing Naive Bayes Test function: (10 points)\n",
    "\n",
    "In this function, implement the previous functions such as naive_bayes_predict to get the predictions for the test set. \n",
    "\n",
    "In addition to this, the function should return the total number of reviews that it correctly classified as 'positive' or 'negative'. "
   ]
  },
  {
   "cell_type": "code",
   "execution_count": 25,
   "id": "66a511e7",
   "metadata": {
    "id": "66a511e7"
   },
   "outputs": [
    {
     "data": {
      "text/plain": [
       "0.8763136620856912"
      ]
     },
     "execution_count": 25,
     "metadata": {},
     "output_type": "execute_result"
    }
   ],
   "source": [
    "# UNQ_C6 (UNIQUE CELL IDENTIFIER, DO NOT EDIT)\n",
    "def test_naive_bayes(test_x, test_y, logprior, loglikelihood):\n",
    "    \"\"\"\n",
    "    Input:\n",
    "        test_x: A list of reviews\n",
    "        test_y: the corresponding labels for the list of reviews\n",
    "        logprior: the logprior\n",
    "        loglikelihood: a dictionary with the loglikelihoods for each word\n",
    "    Output:\n",
    "        accuracy: (# of reviews classified correctly)/(total # of reviews)\n",
    "    \"\"\"\n",
    "    accuracy = 0  \n",
    "\n",
    "    y_hats = []\n",
    "    for review in test_x:\n",
    "        if naive_bayes_predict(review, logprior, loglikelihood) >0:\n",
    "            y_hat_i = 1\n",
    "        else:\n",
    "            y_hat_i = 0\n",
    "\n",
    "        # append the predicted class to the list y_hats\n",
    "        y_hats.append(y_hat_i)\n",
    "\n",
    "    # error is the average of the absolute values of the differences between y_hats and test_y\n",
    "    error = np.mean(y_hats!=test_y)\n",
    "\n",
    "    accuracy = np.mean(y_hats==test_y)\n",
    "\n",
    "    return accuracy\n",
    "\n",
    "test_naive_bayes(X_test, y_test, logprior, loglikelihood)"
   ]
  },
  {
   "cell_type": "code",
   "execution_count": 26,
   "id": "8a9c5d9d",
   "metadata": {
    "id": "8a9c5d9d"
   },
   "outputs": [
    {
     "name": "stdout",
     "output_type": "stream",
     "text": [
      "If you like original gut wrenching laughter you will like this movie. If you are young or old then y -> 0.00\n",
      "What a waste of talent. A very poor, semi-coherent, script cripples this film. Rather unimaginative  -> 1.00\n",
      "I have seen this film at least 100 times and I am still excited by it, the acting is perfect and the -> 0.00\n",
      "Cheap, amateurish, unimaginative, exploitative... but don't think it'll have redeeming amusement val -> 1.00\n"
     ]
    }
   ],
   "source": [
    "# For grading purpose only\n",
    "# You do not have to input any code in this cell, but it is relevant to grading, so please do not change anything\n",
    "\n",
    "# Run this cell to test your function\n",
    "\n",
    "for review in [\"If you like original gut wrenching laughter you will like this movie. If you are young or old then you will love this movie, hell even my mom liked it.<br /><br />Great Camp!!!\",\n",
    "                \"What a waste of talent. A very poor, semi-coherent, script cripples this film. Rather unimaginative direction, too. Some VERY faint echoes of Fargo here, but it just doesn't come off.\",\n",
    "                \"I have seen this film at least 100 times and I am still excited by it, the acting is perfect and the romance between Joe and Jean keeps me on the edge of my seat, plus I still think Bryan Brown is the tops. Brilliant Film.\",\n",
    "                \"Cheap, amateurish, unimaginative, exploitative... but don't think it'll have redeeming amusement value. About as unentertaining, uninstructive and just plain dull as a film can be.\"]:\n",
    "    p = naive_bayes_predict(review, logprior, loglikelihood)\n",
    "    print(f'{review[:100]} -> {p:.2f}')\n",
    "    "
   ]
  },
  {
   "cell_type": "markdown",
   "id": "43e2ef98",
   "metadata": {
    "id": "43e2ef98"
   },
   "source": [
    "### Expected Output :\n",
    "\n",
    "If you like original gut wrenching laughter you will like this movie. If you are young or old then y -> 0.00 <br>\n",
    "What a waste of talent. A very poor, semi-coherent, script cripples this film. Rather unimaginative  -> 1.00<br>\n",
    "I have seen this film at least 100 times and I am still excited by it, the acting is perfect and the -> 0.00 <br>\n",
    "Cheap, amateurish, unimaginative, exploitative... but don't think it'll have redeeming amusement val -> 1.00\n",
    "\n"
   ]
  },
  {
   "cell_type": "code",
   "execution_count": 27,
   "id": "216fa97a",
   "metadata": {
    "colab": {
     "base_uri": "https://localhost:8080/"
    },
    "id": "216fa97a",
    "outputId": "9d1f21c7-b324-43c2-e841-269c0306cbb4"
   },
   "outputs": [
    {
     "data": {
      "text/plain": [
       "1"
      ]
     },
     "execution_count": 27,
     "metadata": {},
     "output_type": "execute_result"
    }
   ],
   "source": [
    "# Feel free to check the sentiment of your own review below\n",
    "my_review = 'The moview was very boring, I wanted to leave in the middle'\n",
    "naive_bayes_predict(my_review, logprior, loglikelihood)"
   ]
  },
  {
   "cell_type": "markdown",
   "id": "8a45e4f0",
   "metadata": {
    "id": "8a45e4f0"
   },
   "source": [
    "### Expected Output :\n",
    "1"
   ]
  },
  {
   "cell_type": "markdown",
   "id": "mAIkM4aCC1H7",
   "metadata": {
    "id": "mAIkM4aCC1H7"
   },
   "source": [
    "# Q7. Evaluate the accuracy (10 Points)\n",
    "1. Split your data into training and test sets using random selection. Set the seed as parameter of the function so that user can select a different training and test set by changin seed.\n",
    "\n",
    "2. Calculate model paramters with training set.\n",
    "\n",
    "3. Print confusion matrix for training and test set.\n",
    "\n",
    "4. Examine False Positive and False Negative cases and provide reasoning why they get misclassified."
   ]
  },
  {
   "cell_type": "code",
   "execution_count": 28,
   "id": "e0bab062",
   "metadata": {},
   "outputs": [],
   "source": [
    "X = df['review']\n",
    "y = df['sentiment']"
   ]
  },
  {
   "cell_type": "code",
   "execution_count": 29,
   "id": "3f272eac",
   "metadata": {},
   "outputs": [],
   "source": [
    "seed = 1234\n",
    "X_train, X_test, y_train, y_test = train_test_split(X, y, test_size = 0.2, random_state = seed)\n",
    "\n",
    "output_map = {'positive': 0, 'negative': 1}\n",
    "y_train = y_train.map(output_map)\n",
    "y_test = y_test.map(output_map)\n",
    "\n",
    "train_predictions = [naive_bayes_predict(review, logprior, loglikelihood) for review in X_train]"
   ]
  },
  {
   "cell_type": "code",
   "execution_count": 30,
   "id": "9f3484b5",
   "metadata": {},
   "outputs": [
    {
     "name": "stdout",
     "output_type": "stream",
     "text": [
      "Training Set Confusion Matrix:\n",
      "[[8933 1059]\n",
      " [ 897 8870]]\n"
     ]
    }
   ],
   "source": [
    "print(\"Training Set Confusion Matrix:\")\n",
    "training_metrics = confusion_matrix(y_train, train_predictions)\n",
    "print(training_metrics)"
   ]
  },
  {
   "cell_type": "code",
   "execution_count": 31,
   "id": "b018e82f",
   "metadata": {},
   "outputs": [],
   "source": [
    "test_predictions = [naive_bayes_predict(review, logprior, loglikelihood) for review in X_test]"
   ]
  },
  {
   "cell_type": "code",
   "execution_count": 32,
   "id": "a4f2383c",
   "metadata": {},
   "outputs": [
    {
     "name": "stdout",
     "output_type": "stream",
     "text": [
      "Training Accuracy:  90.10071359886635\n",
      "Testing Accuracy:  90.54655870445345\n"
     ]
    }
   ],
   "source": [
    "print(\"Training Accuracy: \", np.mean(train_predictions==y_train)*100)\n",
    "print(\"Testing Accuracy: \", np.mean(test_predictions==y_test)*100)"
   ]
  },
  {
   "cell_type": "code",
   "execution_count": 33,
   "id": "2f6ec658",
   "metadata": {},
   "outputs": [
    {
     "name": "stdout",
     "output_type": "stream",
     "text": [
      "Testing Set Confusion Matrix:\n",
      "[[2240  242]\n",
      " [ 225 2233]]\n"
     ]
    }
   ],
   "source": [
    "print(\"Testing Set Confusion Matrix:\")\n",
    "testing_metrics = confusion_matrix(y_test, test_predictions)\n",
    "print(testing_metrics)"
   ]
  },
  {
   "cell_type": "code",
   "execution_count": 34,
   "id": "d9ea049e",
   "metadata": {},
   "outputs": [
    {
     "name": "stdout",
     "output_type": "stream",
     "text": [
      "Training False Positive:  1059\n",
      "Training False Negative:  897\n"
     ]
    }
   ],
   "source": [
    "print(\"Training False Positive: \", training_metrics[0][1])\n",
    "print(\"Training False Negative: \", training_metrics[1][0])"
   ]
  },
  {
   "cell_type": "code",
   "execution_count": 35,
   "id": "4c7d20a1",
   "metadata": {},
   "outputs": [
    {
     "name": "stdout",
     "output_type": "stream",
     "text": [
      "Testing False Positive:  242\n",
      "Testing False Negative:  225\n"
     ]
    }
   ],
   "source": [
    "print(\"Testing False Positive: \", testing_metrics[0][1])\n",
    "print(\"Testing False Negative: \", testing_metrics[1][0])"
   ]
  },
  {
   "cell_type": "markdown",
   "id": "XbzttYVnBo7W",
   "metadata": {
    "id": "XbzttYVnBo7W"
   },
   "source": [
    "# Q8. Modularize your calssifier (10 points)\n",
    "1. Convert your code into a python module text_classifier.py\n",
    "\n",
    "2. The user should be able to launch the application on command prompt using python test_classifier.py command. The module will automatically load the model paramters from a local file of your choice and be ready to take the input from user on command prompt. The program will preprocess user input, tokenize and predict the class.\n",
    "\n",
    "3. Your module will take the input from user and output sentiment class in an indefinite loop. The output should printout the probabilities for each input token along with the final classification decision. Program will quit if user enters X.\n"
   ]
  },
  {
   "cell_type": "code",
   "execution_count": 36,
   "id": "lKAQrnnbBnKe",
   "metadata": {
    "id": "lKAQrnnbBnKe"
   },
   "outputs": [],
   "source": [
    "import pickle\n",
    "pickle.dump([logprior,loglikelihood], open(\"output\",\"wb\"))"
   ]
  },
  {
   "cell_type": "markdown",
   "id": "82e6e4d1",
   "metadata": {
    "id": "82e6e4d1"
   },
   "source": [
    "# Q9. Theory Questions: (10 points)\n",
    "\n",
    "1. Why is Laplace Smoothing or Additive Smoothing required while executing Naive Bayes operations, especially for text classification? Show how not having additive smoothing leads to bad outcomes by using an example of training and the test set. (10 points)"
   ]
  },
  {
   "cell_type": "markdown",
   "id": "a9c4ef3f",
   "metadata": {},
   "source": [
    "When classifying unknown data, Laplace smoothing or additive smoothing is employed to avoid division by zero and over-confidence. The problem of having a zero probability arises in text classification when a certain term in the test set has not been observed in the training set. If we do not smooth the count of words, the chance of that class falls to zero, and the overall probability falls to zero, resulting in inaccurate predictions.\n",
    "\n",
    "Consider the following binary classification issue with two classes: positive and negative. We offer a practice set that includes 10 good and 10 negative reviews. In good reviews, the term \"bad\" appears two times and five times in negative reviews.\n",
    "\n",
    "Without smoothing, the likelihood of the word \"bad\" in a positive class is 2/10=0.2 and 5/10=0.5 in a negative class.\n",
    "\n",
    "Consider a test review in which the words \"poor\" and \"worse\" appear. The word \"worse\" is not in the training set. Without smoothing, the probability of the positive class falls to zero since the probability of the term \"worse\" in the supplied positive class is zero, and therefore the product falls to zero. The same holds true for the negative class.\n",
    "\n",
    "Laplace smoothing (also known as additive smoothing) involves adding a smoothing parameter, often 1, to each word count. Given a positive class, the probability of the word \"bad\" becomes (2+1)/(10+2)=0.25, while given a negative class, it becomes (5+1)/(10+2)=0.5. Given a positive class, the probability of the term \"worse\" becomes (0+1)/(10+2)=0.05, while given a negative class, it becomes (0+1)/(10+2)=0.05."
   ]
  },
  {
   "cell_type": "code",
   "execution_count": 39,
   "id": "103aa89b",
   "metadata": {},
   "outputs": [],
   "source": [
    "def train_naive_bayes(freqs, train_x, train_y):\n",
    "    '''\n",
    "    Input:\n",
    "        freqs: dictionary from (word, label) to how often the word appears\n",
    "        train_x: a list of reviews\n",
    "        train_y: a list of labels correponding to the reviews (0,1)\n",
    "    Output:\n",
    "        logprior: the log prior. (equation 3 above)\n",
    "        loglikelihood: the log likelihood of you Naive bayes equation. (equation 6 above)\n",
    "    '''\n",
    "    loglikelihood = {}\n",
    "    logprior = 0\n",
    "    # calculate V, the number of unique words in the vocabulary\n",
    "    vocab = set([pair[0] for pair in freqs.keys()])\n",
    "    V = len(vocab)\n",
    "\n",
    "    # calculate num_pos and num_neg - the total number of positive and negative words for all documents\n",
    "    num_pos = num_neg = 0\n",
    "    for pair in freqs.keys():\n",
    "        # if the label is positive (greater than zero)\n",
    "        if pair[1] > 0:\n",
    "            num_pos += freqs[pair]\n",
    "        else:\n",
    "            num_neg += freqs[pair]\n",
    "\n",
    "    # Calculate num_doc, the number of documents\n",
    "    num_doc = train_y.shape[0]\n",
    "\n",
    "    # Calculate D_pos, the number of positive documents \n",
    "    pos_num_docs = train_y[train_y == 0].shape[0]\n",
    "\n",
    "    # Calculate D_neg, the number of negative documents \n",
    "    neg_num_docs = train_y[train_y == 1].shape[0]\n",
    "\n",
    "    # Calculate logprior\n",
    "    logprior = np.log(pos_num_docs) - np.log(neg_num_docs)\n",
    "\n",
    "    # For each word in the vocabulary...\n",
    "    for word in vocab:\n",
    "        # get the positive and negative frequency of the word\n",
    "        freq_pos = find_occurrence(freqs, word, 1) # freqs.get((word, 1), 0)\n",
    "        freq_neg = find_occurrence(freqs, word, 0)\n",
    "\n",
    "        # calculate the probability that each word is positive, and negative\n",
    "        p_w_pos = (freq_pos) / (num_pos)\n",
    "        p_w_neg = (freq_neg) / (num_neg)\n",
    "\n",
    "        # calculate the log likelihood of the word\n",
    "        loglikelihood[word] = np.log(p_w_pos/p_w_neg)\n",
    "\n",
    "    return logprior, loglikelihood"
   ]
  },
  {
   "cell_type": "code",
   "execution_count": 40,
   "id": "627c6cfa",
   "metadata": {},
   "outputs": [
    {
     "ename": "ZeroDivisionError",
     "evalue": "float division by zero",
     "output_type": "error",
     "traceback": [
      "\u001b[1;31m---------------------------------------------------------------------------\u001b[0m",
      "\u001b[1;31mZeroDivisionError\u001b[0m                         Traceback (most recent call last)",
      "\u001b[1;32m<ipython-input-40-67830dfe7115>\u001b[0m in \u001b[0;36m<module>\u001b[1;34m\u001b[0m\n\u001b[0;32m      1\u001b[0m \u001b[1;31m# You do not have to input any code in this cell, but it is relevant to grading, so please do not change anything\u001b[0m\u001b[1;33m\u001b[0m\u001b[1;33m\u001b[0m\u001b[0m\n\u001b[1;32m----> 2\u001b[1;33m \u001b[0mlogprior\u001b[0m\u001b[1;33m,\u001b[0m \u001b[0mloglikelihood\u001b[0m \u001b[1;33m=\u001b[0m \u001b[0mtrain_naive_bayes\u001b[0m\u001b[1;33m(\u001b[0m\u001b[0mfreqs\u001b[0m\u001b[1;33m,\u001b[0m \u001b[0mX_train\u001b[0m\u001b[1;33m,\u001b[0m \u001b[0my_train\u001b[0m\u001b[1;33m)\u001b[0m\u001b[1;33m\u001b[0m\u001b[0m\n\u001b[0m\u001b[0;32m      3\u001b[0m \u001b[0mprint\u001b[0m\u001b[1;33m(\u001b[0m\u001b[0mlogprior\u001b[0m\u001b[1;33m)\u001b[0m\u001b[1;33m\u001b[0m\u001b[0m\n\u001b[0;32m      4\u001b[0m \u001b[0mprint\u001b[0m\u001b[1;33m(\u001b[0m\u001b[0mlen\u001b[0m\u001b[1;33m(\u001b[0m\u001b[0mloglikelihood\u001b[0m\u001b[1;33m)\u001b[0m\u001b[1;33m)\u001b[0m\u001b[1;33m\u001b[0m\u001b[0m\n",
      "\u001b[1;32m<ipython-input-39-d92865ce239c>\u001b[0m in \u001b[0;36mtrain_naive_bayes\u001b[1;34m(freqs, train_x, train_y)\u001b[0m\n\u001b[0;32m     47\u001b[0m \u001b[1;33m\u001b[0m\u001b[0m\n\u001b[0;32m     48\u001b[0m         \u001b[1;31m# calculate the log likelihood of the word\u001b[0m\u001b[1;33m\u001b[0m\u001b[1;33m\u001b[0m\u001b[0m\n\u001b[1;32m---> 49\u001b[1;33m         \u001b[0mloglikelihood\u001b[0m\u001b[1;33m[\u001b[0m\u001b[0mword\u001b[0m\u001b[1;33m]\u001b[0m \u001b[1;33m=\u001b[0m \u001b[0mnp\u001b[0m\u001b[1;33m.\u001b[0m\u001b[0mlog\u001b[0m\u001b[1;33m(\u001b[0m\u001b[0mp_w_pos\u001b[0m\u001b[1;33m/\u001b[0m\u001b[0mp_w_neg\u001b[0m\u001b[1;33m)\u001b[0m\u001b[1;33m\u001b[0m\u001b[0m\n\u001b[0m\u001b[0;32m     50\u001b[0m \u001b[1;33m\u001b[0m\u001b[0m\n\u001b[0;32m     51\u001b[0m     \u001b[1;32mreturn\u001b[0m \u001b[0mlogprior\u001b[0m\u001b[1;33m,\u001b[0m \u001b[0mloglikelihood\u001b[0m\u001b[1;33m\u001b[0m\u001b[0m\n",
      "\u001b[1;31mZeroDivisionError\u001b[0m: float division by zero"
     ]
    }
   ],
   "source": [
    "# You do not have to input any code in this cell, but it is relevant to grading, so please do not change anything\n",
    "logprior, loglikelihood = train_naive_bayes(freqs, X_train, y_train)\n",
    "print(logprior)\n",
    "print(len(loglikelihood))"
   ]
  },
  {
   "cell_type": "markdown",
   "id": "9ffbcd2b",
   "metadata": {},
   "source": [
    "As explained in the above, a particular word that is present in postive reviews is not present in the negative reviews, thus our p_w_neg = 0 which is then divided in the demominator to calculate loglikelihood."
   ]
  },
  {
   "cell_type": "code",
   "execution_count": 41,
   "id": "213b2b61",
   "metadata": {},
   "outputs": [],
   "source": [
    "# TASK 4 CELL\n",
    "\n",
    "def naive_bayes_predict(review, logprior, loglikelihood):\n",
    "    '''\n",
    "    Params:\n",
    "        review: a string\n",
    "        logprior: a number\n",
    "        loglikelihood: a dictionary of words mapping to numbers\n",
    "    Return:\n",
    "        total_prob: the sum of all the loglikelihoods of each word in the review (if found in the dictionary) + logprior (a number)\n",
    "    '''\n",
    "    # process the review to get a list of words\n",
    "    word_l = clean_review(review).split()\n",
    "#     print(\"WORD_L:   \", word_l)\n",
    "    # initialize probability to zero\n",
    "    total_prob = 0\n",
    "\n",
    "    # add the logprior\n",
    "    total_prob += logprior\n",
    "\n",
    "    for word in word_l:\n",
    "        # check if the word exists in the loglikelihood dictionary\n",
    "        if word in loglikelihood:\n",
    "            total_prob = total_prob + loglikelihood[word]\n",
    "#             print(total_prob, loglikelihood[word])\n",
    "    if total_prob > 0:\n",
    "        total_prob = 1\n",
    "    else:\n",
    "        total_prob = 0\n",
    "\n",
    "    return total_prob"
   ]
  },
  {
   "cell_type": "code",
   "execution_count": null,
   "id": "f84c00dc",
   "metadata": {},
   "outputs": [],
   "source": []
  },
  {
   "cell_type": "markdown",
   "id": "d6ae1a3a",
   "metadata": {},
   "source": [
    "2. Why are logarithmic values computed instead of only probability values in the Naive Bayes algorithm? (5 points)"
   ]
  },
  {
   "cell_type": "markdown",
   "id": "450e99c8",
   "metadata": {},
   "source": [
    "In the Naive Bayes algorithm, we figure out how likely a class is based on a set of characteristics. These probabilities can become extremely small, particularly for large datasets, resulting in underflow issues when storing or manipulating the numbers in a computer. To avoid this, it is typical to operate using the probabilities' logarithms instead. A small number's logarithm is a large negative number, but the logarithm of a product is the sum of the logarithms, therefore multiplying several small numbers yields a manageable total of negative numbers. So, instead of multiplying the probabilities, we compute the logarithms of the probabilities and then sum the logarithmic values in the Naive Bayes process. This enables us to operate with smaller quantities and prevent underflow issues."
   ]
  },
  {
   "cell_type": "code",
   "execution_count": null,
   "id": "241116a3",
   "metadata": {},
   "outputs": [],
   "source": []
  }
 ],
 "metadata": {
  "colab": {
   "collapsed_sections": [],
   "name": "CS6120_NLP_Assignment_1_Notebook.ipynb",
   "provenance": [],
   "toc_visible": true
  },
  "kernelspec": {
   "display_name": "Python 3",
   "language": "python",
   "name": "python3"
  },
  "language_info": {
   "codemirror_mode": {
    "name": "ipython",
    "version": 3
   },
   "file_extension": ".py",
   "mimetype": "text/x-python",
   "name": "python",
   "nbconvert_exporter": "python",
   "pygments_lexer": "ipython3",
   "version": "3.6.5"
  }
 },
 "nbformat": 4,
 "nbformat_minor": 5
}
